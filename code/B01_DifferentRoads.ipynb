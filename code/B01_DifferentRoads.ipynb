{
 "cells": [
  {
   "cell_type": "markdown",
   "id": "behavioral-discretion",
   "metadata": {},
   "source": [
    "# What is the difference between OS OpenRoads and OS OpenMapLocal Road layer?"
   ]
  },
  {
   "cell_type": "markdown",
   "id": "greenhouse-conspiracy",
   "metadata": {},
   "source": [
    "Let's investigate..."
   ]
  },
  {
   "cell_type": "code",
   "execution_count": 1,
   "id": "charming-mediterranean",
   "metadata": {},
   "outputs": [],
   "source": [
    "from nbhd import data"
   ]
  },
  {
   "cell_type": "code",
   "execution_count": 2,
   "id": "russian-richmond",
   "metadata": {},
   "outputs": [
    {
     "name": "stdout",
     "output_type": "stream",
     "text": [
      "Initializing database connection...\n",
      "Database connected!\n"
     ]
    }
   ],
   "source": [
    "db = data.Base()"
   ]
  },
  {
   "cell_type": "code",
   "execution_count": 3,
   "id": "palestinian-animal",
   "metadata": {},
   "outputs": [
    {
     "data": {
      "text/html": [
       "<div>\n",
       "<style scoped>\n",
       "    .dataframe tbody tr th:only-of-type {\n",
       "        vertical-align: middle;\n",
       "    }\n",
       "\n",
       "    .dataframe tbody tr th {\n",
       "        vertical-align: top;\n",
       "    }\n",
       "\n",
       "    .dataframe thead th {\n",
       "        text-align: right;\n",
       "    }\n",
       "</style>\n",
       "<table border=\"1\" class=\"dataframe\">\n",
       "  <thead>\n",
       "    <tr style=\"text-align: right;\">\n",
       "      <th></th>\n",
       "      <th>0</th>\n",
       "      <th>1</th>\n",
       "      <th>2</th>\n",
       "      <th>3</th>\n",
       "      <th>4</th>\n",
       "      <th>5</th>\n",
       "      <th>6</th>\n",
       "      <th>7</th>\n",
       "      <th>8</th>\n",
       "      <th>9</th>\n",
       "      <th>...</th>\n",
       "      <th>11</th>\n",
       "      <th>12</th>\n",
       "      <th>13</th>\n",
       "      <th>14</th>\n",
       "      <th>15</th>\n",
       "      <th>16</th>\n",
       "      <th>17</th>\n",
       "      <th>18</th>\n",
       "      <th>19</th>\n",
       "      <th>20</th>\n",
       "    </tr>\n",
       "  </thead>\n",
       "  <tbody>\n",
       "    <tr>\n",
       "      <th>Column</th>\n",
       "      <td>id</td>\n",
       "      <td>endNode</td>\n",
       "      <td>startNode</td>\n",
       "      <td>roadNumberTOID</td>\n",
       "      <td>roadNameTOID</td>\n",
       "      <td>fictitious</td>\n",
       "      <td>roadClassification</td>\n",
       "      <td>road_function</td>\n",
       "      <td>formOfWay</td>\n",
       "      <td>length</td>\n",
       "      <td>...</td>\n",
       "      <td>loop</td>\n",
       "      <td>primaryRoute</td>\n",
       "      <td>trunkRoad</td>\n",
       "      <td>roadClassificationNumber</td>\n",
       "      <td>name1</td>\n",
       "      <td>name1_lang</td>\n",
       "      <td>name2</td>\n",
       "      <td>name2_lang</td>\n",
       "      <td>roadStructure</td>\n",
       "      <td>geometry</td>\n",
       "    </tr>\n",
       "    <tr>\n",
       "      <th>Datatype</th>\n",
       "      <td>text</td>\n",
       "      <td>text</td>\n",
       "      <td>text</td>\n",
       "      <td>text</td>\n",
       "      <td>text</td>\n",
       "      <td>boolean</td>\n",
       "      <td>text</td>\n",
       "      <td>text</td>\n",
       "      <td>text</td>\n",
       "      <td>bigint</td>\n",
       "      <td>...</td>\n",
       "      <td>boolean</td>\n",
       "      <td>boolean</td>\n",
       "      <td>boolean</td>\n",
       "      <td>text</td>\n",
       "      <td>text</td>\n",
       "      <td>text</td>\n",
       "      <td>text</td>\n",
       "      <td>text</td>\n",
       "      <td>text</td>\n",
       "      <td>geometry(LineString,27700)</td>\n",
       "    </tr>\n",
       "  </tbody>\n",
       "</table>\n",
       "<p>2 rows × 21 columns</p>\n",
       "</div>"
      ],
      "text/plain": [
       "            0        1          2               3             4           5   \\\n",
       "Column      id  endNode  startNode  roadNumberTOID  roadNameTOID  fictitious   \n",
       "Datatype  text     text       text            text          text     boolean   \n",
       "\n",
       "                          6              7          8       9   ...       11  \\\n",
       "Column    roadClassification  road_function  formOfWay  length  ...     loop   \n",
       "Datatype                text           text       text  bigint  ...  boolean   \n",
       "\n",
       "                    12         13                        14     15  \\\n",
       "Column    primaryRoute  trunkRoad  roadClassificationNumber  name1   \n",
       "Datatype       boolean    boolean                      text   text   \n",
       "\n",
       "                  16     17          18             19  \\\n",
       "Column    name1_lang  name2  name2_lang  roadStructure   \n",
       "Datatype        text   text        text           text   \n",
       "\n",
       "                                  20  \n",
       "Column                      geometry  \n",
       "Datatype  geometry(LineString,27700)  \n",
       "\n",
       "[2 rows x 21 columns]"
      ]
     },
     "execution_count": 3,
     "metadata": {},
     "output_type": "execute_result"
    }
   ],
   "source": [
    "db.info('roads').T"
   ]
  },
  {
   "cell_type": "code",
   "execution_count": 4,
   "id": "dense-cedar",
   "metadata": {},
   "outputs": [
    {
     "data": {
      "text/html": [
       "<div>\n",
       "<style scoped>\n",
       "    .dataframe tbody tr th:only-of-type {\n",
       "        vertical-align: middle;\n",
       "    }\n",
       "\n",
       "    .dataframe tbody tr th {\n",
       "        vertical-align: top;\n",
       "    }\n",
       "\n",
       "    .dataframe thead th {\n",
       "        text-align: right;\n",
       "    }\n",
       "</style>\n",
       "<table border=\"1\" class=\"dataframe\">\n",
       "  <thead>\n",
       "    <tr style=\"text-align: right;\">\n",
       "      <th></th>\n",
       "      <th>0</th>\n",
       "      <th>1</th>\n",
       "      <th>2</th>\n",
       "      <th>3</th>\n",
       "      <th>4</th>\n",
       "      <th>5</th>\n",
       "      <th>6</th>\n",
       "      <th>7</th>\n",
       "    </tr>\n",
       "  </thead>\n",
       "  <tbody>\n",
       "    <tr>\n",
       "      <th>Column</th>\n",
       "      <td>id</td>\n",
       "      <td>distinctiveName</td>\n",
       "      <td>roadNumber</td>\n",
       "      <td>classification</td>\n",
       "      <td>drawLevel</td>\n",
       "      <td>override</td>\n",
       "      <td>featureCode</td>\n",
       "      <td>geometry</td>\n",
       "    </tr>\n",
       "    <tr>\n",
       "      <th>Datatype</th>\n",
       "      <td>text</td>\n",
       "      <td>text</td>\n",
       "      <td>text</td>\n",
       "      <td>text</td>\n",
       "      <td>bigint</td>\n",
       "      <td>text</td>\n",
       "      <td>bigint</td>\n",
       "      <td>geometry(LineString,27700)</td>\n",
       "    </tr>\n",
       "  </tbody>\n",
       "</table>\n",
       "</div>"
      ],
      "text/plain": [
       "             0                1           2               3          4  \\\n",
       "Column      id  distinctiveName  roadNumber  classification  drawLevel   \n",
       "Datatype  text             text        text            text     bigint   \n",
       "\n",
       "                 5            6                           7  \n",
       "Column    override  featureCode                    geometry  \n",
       "Datatype      text       bigint  geometry(LineString,27700)  "
      ]
     },
     "execution_count": 4,
     "metadata": {},
     "output_type": "execute_result"
    }
   ],
   "source": [
    "db.info('road').T"
   ]
  },
  {
   "cell_type": "code",
   "execution_count": 5,
   "id": "honey-wallpaper",
   "metadata": {},
   "outputs": [
    {
     "data": {
      "text/html": [
       "<div>\n",
       "<style scoped>\n",
       "    .dataframe tbody tr th:only-of-type {\n",
       "        vertical-align: middle;\n",
       "    }\n",
       "\n",
       "    .dataframe tbody tr th {\n",
       "        vertical-align: top;\n",
       "    }\n",
       "\n",
       "    .dataframe thead th {\n",
       "        text-align: right;\n",
       "    }\n",
       "</style>\n",
       "<table border=\"1\" class=\"dataframe\">\n",
       "  <thead>\n",
       "    <tr style=\"text-align: right;\">\n",
       "      <th></th>\n",
       "      <th>count</th>\n",
       "    </tr>\n",
       "  </thead>\n",
       "  <tbody>\n",
       "    <tr>\n",
       "      <th>0</th>\n",
       "      <td>3760939</td>\n",
       "    </tr>\n",
       "  </tbody>\n",
       "</table>\n",
       "</div>"
      ],
      "text/plain": [
       "     count\n",
       "0  3760939"
      ]
     },
     "execution_count": 5,
     "metadata": {},
     "output_type": "execute_result"
    }
   ],
   "source": [
    "db.count('roads')"
   ]
  },
  {
   "cell_type": "code",
   "execution_count": 6,
   "id": "pleased-bones",
   "metadata": {},
   "outputs": [
    {
     "data": {
      "text/html": [
       "<div>\n",
       "<style scoped>\n",
       "    .dataframe tbody tr th:only-of-type {\n",
       "        vertical-align: middle;\n",
       "    }\n",
       "\n",
       "    .dataframe tbody tr th {\n",
       "        vertical-align: top;\n",
       "    }\n",
       "\n",
       "    .dataframe thead th {\n",
       "        text-align: right;\n",
       "    }\n",
       "</style>\n",
       "<table border=\"1\" class=\"dataframe\">\n",
       "  <thead>\n",
       "    <tr style=\"text-align: right;\">\n",
       "      <th></th>\n",
       "      <th>count</th>\n",
       "    </tr>\n",
       "  </thead>\n",
       "  <tbody>\n",
       "    <tr>\n",
       "      <th>0</th>\n",
       "      <td>3547350</td>\n",
       "    </tr>\n",
       "  </tbody>\n",
       "</table>\n",
       "</div>"
      ],
      "text/plain": [
       "     count\n",
       "0  3547350"
      ]
     },
     "execution_count": 6,
     "metadata": {},
     "output_type": "execute_result"
    }
   ],
   "source": [
    "db.count('road')"
   ]
  },
  {
   "cell_type": "code",
   "execution_count": 7,
   "id": "special-paradise",
   "metadata": {},
   "outputs": [],
   "source": [
    "road_class = db.count('road', 'classification')"
   ]
  },
  {
   "cell_type": "code",
   "execution_count": 8,
   "id": "generic-cookie",
   "metadata": {},
   "outputs": [
    {
     "data": {
      "text/html": [
       "<div>\n",
       "<style scoped>\n",
       "    .dataframe tbody tr th:only-of-type {\n",
       "        vertical-align: middle;\n",
       "    }\n",
       "\n",
       "    .dataframe tbody tr th {\n",
       "        vertical-align: top;\n",
       "    }\n",
       "\n",
       "    .dataframe thead th {\n",
       "        text-align: right;\n",
       "    }\n",
       "</style>\n",
       "<table border=\"1\" class=\"dataframe\">\n",
       "  <thead>\n",
       "    <tr style=\"text-align: right;\">\n",
       "      <th></th>\n",
       "      <th>Guided Busway Carriageway</th>\n",
       "      <th>Shared Use Carriageway</th>\n",
       "      <th>B Road, Collapsed Dual Carriageway</th>\n",
       "      <th>Motorway</th>\n",
       "      <th>Minor Road, Collapsed Dual Carriageway</th>\n",
       "      <th>Motorway, Collapsed Dual Carriageway</th>\n",
       "      <th>A Road, Collapsed Dual Carriageway</th>\n",
       "      <th>Primary Road, Collapsed Dual Carriageway</th>\n",
       "      <th>Local Access Road</th>\n",
       "      <th>Primary Road</th>\n",
       "      <th>B Road</th>\n",
       "      <th>A Road</th>\n",
       "      <th>Minor Road</th>\n",
       "      <th>Restricted Local Access Road</th>\n",
       "      <th>Local Road</th>\n",
       "    </tr>\n",
       "  </thead>\n",
       "  <tbody>\n",
       "    <tr>\n",
       "      <th>counts</th>\n",
       "      <td>169</td>\n",
       "      <td>3158</td>\n",
       "      <td>4060</td>\n",
       "      <td>5457</td>\n",
       "      <td>6268</td>\n",
       "      <td>7020</td>\n",
       "      <td>17437</td>\n",
       "      <td>27094</td>\n",
       "      <td>42514</td>\n",
       "      <td>83024</td>\n",
       "      <td>152971</td>\n",
       "      <td>163227</td>\n",
       "      <td>659182</td>\n",
       "      <td>802407</td>\n",
       "      <td>1573362</td>\n",
       "    </tr>\n",
       "  </tbody>\n",
       "</table>\n",
       "</div>"
      ],
      "text/plain": [
       "        Guided Busway Carriageway  Shared Use Carriageway  \\\n",
       "counts                        169                    3158   \n",
       "\n",
       "        B Road, Collapsed Dual Carriageway  Motorway  \\\n",
       "counts                                4060      5457   \n",
       "\n",
       "        Minor Road, Collapsed Dual Carriageway  \\\n",
       "counts                                    6268   \n",
       "\n",
       "        Motorway, Collapsed Dual Carriageway  \\\n",
       "counts                                  7020   \n",
       "\n",
       "        A Road, Collapsed Dual Carriageway  \\\n",
       "counts                               17437   \n",
       "\n",
       "        Primary Road, Collapsed Dual Carriageway  Local Access Road  \\\n",
       "counts                                     27094              42514   \n",
       "\n",
       "        Primary Road  B Road  A Road  Minor Road  \\\n",
       "counts         83024  152971  163227      659182   \n",
       "\n",
       "        Restricted Local Access Road  Local Road  \n",
       "counts                        802407     1573362  "
      ]
     },
     "execution_count": 8,
     "metadata": {},
     "output_type": "execute_result"
    }
   ],
   "source": [
    "road_class.sort_values('counts').T"
   ]
  },
  {
   "cell_type": "code",
   "execution_count": 9,
   "id": "varied-executive",
   "metadata": {},
   "outputs": [
    {
     "data": {
      "text/plain": [
       "counts    3547350\n",
       "dtype: int64"
      ]
     },
     "execution_count": 9,
     "metadata": {},
     "output_type": "execute_result"
    }
   ],
   "source": [
    "road_class.sum()"
   ]
  },
  {
   "cell_type": "code",
   "execution_count": 10,
   "id": "opened-minimum",
   "metadata": {},
   "outputs": [],
   "source": [
    "roads_functions = db.count('roads', 'road_function')"
   ]
  },
  {
   "cell_type": "code",
   "execution_count": 11,
   "id": "marine-consensus",
   "metadata": {},
   "outputs": [
    {
     "data": {
      "text/html": [
       "<div>\n",
       "<style scoped>\n",
       "    .dataframe tbody tr th:only-of-type {\n",
       "        vertical-align: middle;\n",
       "    }\n",
       "\n",
       "    .dataframe tbody tr th {\n",
       "        vertical-align: top;\n",
       "    }\n",
       "\n",
       "    .dataframe thead th {\n",
       "        text-align: right;\n",
       "    }\n",
       "</style>\n",
       "<table border=\"1\" class=\"dataframe\">\n",
       "  <thead>\n",
       "    <tr style=\"text-align: right;\">\n",
       "      <th></th>\n",
       "      <th>Motorway</th>\n",
       "      <th>Local Access Road</th>\n",
       "      <th>Secondary Access Road</th>\n",
       "      <th>B Road</th>\n",
       "      <th>A Road</th>\n",
       "      <th>Minor Road</th>\n",
       "      <th>Restricted Local Access Road</th>\n",
       "      <th>Local Road</th>\n",
       "    </tr>\n",
       "  </thead>\n",
       "  <tbody>\n",
       "    <tr>\n",
       "      <th>counts</th>\n",
       "      <td>7124</td>\n",
       "      <td>45307</td>\n",
       "      <td>133522</td>\n",
       "      <td>159415</td>\n",
       "      <td>285536</td>\n",
       "      <td>676167</td>\n",
       "      <td>803087</td>\n",
       "      <td>1650781</td>\n",
       "    </tr>\n",
       "  </tbody>\n",
       "</table>\n",
       "</div>"
      ],
      "text/plain": [
       "        Motorway  Local Access Road  Secondary Access Road  B Road  A Road  \\\n",
       "counts      7124              45307                 133522  159415  285536   \n",
       "\n",
       "        Minor Road  Restricted Local Access Road  Local Road  \n",
       "counts      676167                        803087     1650781  "
      ]
     },
     "execution_count": 11,
     "metadata": {},
     "output_type": "execute_result"
    }
   ],
   "source": [
    "roads_functions.sort_values('counts').T"
   ]
  },
  {
   "cell_type": "code",
   "execution_count": 12,
   "id": "historic-large",
   "metadata": {},
   "outputs": [
    {
     "data": {
      "text/plain": [
       "counts    3760939\n",
       "dtype: int64"
      ]
     },
     "execution_count": 12,
     "metadata": {},
     "output_type": "execute_result"
    }
   ],
   "source": [
    "roads_functions.sum()"
   ]
  }
 ],
 "metadata": {
  "kernelspec": {
   "display_name": "Python 3",
   "language": "python",
   "name": "python3"
  },
  "language_info": {
   "codemirror_mode": {
    "name": "ipython",
    "version": 3
   },
   "file_extension": ".py",
   "mimetype": "text/x-python",
   "name": "python",
   "nbconvert_exporter": "python",
   "pygments_lexer": "ipython3",
   "version": "3.8.8"
  }
 },
 "nbformat": 4,
 "nbformat_minor": 5
}
