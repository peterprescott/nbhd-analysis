{
 "cells": [
  {
   "cell_type": "markdown",
   "id": "least-sunset",
   "metadata": {},
   "source": [
    "# Data Clean-Up"
   ]
  },
  {
   "cell_type": "markdown",
   "id": "magnetic-contributor",
   "metadata": {},
   "source": [
    "I've downloaded a lot of OS OpenData, and used `ogr2ogr` to put some of it in our PostGis database. Let's see what we've got..."
   ]
  },
  {
   "cell_type": "code",
   "execution_count": 1,
   "id": "virtual-tractor",
   "metadata": {},
   "outputs": [],
   "source": [
    "from nbhd import data"
   ]
  },
  {
   "cell_type": "code",
   "execution_count": 2,
   "id": "institutional-label",
   "metadata": {},
   "outputs": [
    {
     "name": "stdout",
     "output_type": "stream",
     "text": [
      "Initializing database connection...\n",
      "Database connected!\n"
     ]
    }
   ],
   "source": [
    "db = data.Base()"
   ]
  },
  {
   "cell_type": "code",
   "execution_count": 3,
   "id": "diagnostic-energy",
   "metadata": {},
   "outputs": [
    {
     "data": {
      "text/plain": [
       "['spatial_ref_sys',\n",
       " 'roadlink',\n",
       " 'osopenuprn_address',\n",
       " 'roadnode',\n",
       " 'motorwayjunction',\n",
       " 'building',\n",
       " 'carchargingpoint',\n",
       " 'importantbuilding',\n",
       " 'namedplace',\n",
       " 'road',\n",
       " 'foreshore',\n",
       " 'functionalsite',\n",
       " 'surfacewater_line',\n",
       " 'surfacewater_area',\n",
       " 'tidalwater',\n",
       " 'tidalboundary',\n",
       " 'glasshouse',\n",
       " 'electricitytransmissionline',\n",
       " 'wood',\n",
       " 'railwaystation',\n",
       " 'railwaytrack',\n",
       " 'coastline']"
      ]
     },
     "execution_count": 3,
     "metadata": {},
     "output_type": "execute_result"
    }
   ],
   "source": [
    "db.ls()"
   ]
  },
  {
   "cell_type": "markdown",
   "id": "nutritional-filename",
   "metadata": {},
   "source": [
    "The tables I'll mainly be using are the `roadlink`, `roadnode`, `osopenuprn_address`, and `building` tables. As well as the `coastline`. I'll rename the first three to something more intuitive: `roads`, `nodes`, and `properties`,"
   ]
  },
  {
   "cell_type": "code",
   "execution_count": 7,
   "id": "likely-speed",
   "metadata": {},
   "outputs": [
    {
     "name": "stdout",
     "output_type": "stream",
     "text": [
      "Table successfully renamed!\n"
     ]
    }
   ],
   "source": [
    "db.rename('roadlink', 'roads')"
   ]
  },
  {
   "cell_type": "code",
   "execution_count": 8,
   "id": "built-reduction",
   "metadata": {},
   "outputs": [
    {
     "name": "stdout",
     "output_type": "stream",
     "text": [
      "Table successfully renamed!\n"
     ]
    }
   ],
   "source": [
    "db.rename('roadnode', 'nodes')"
   ]
  },
  {
   "cell_type": "code",
   "execution_count": 9,
   "id": "manufactured-wealth",
   "metadata": {},
   "outputs": [
    {
     "name": "stdout",
     "output_type": "stream",
     "text": [
      "Table successfully renamed!\n"
     ]
    }
   ],
   "source": [
    "db.rename('osopenuprn_address', 'properties')"
   ]
  }
 ],
 "metadata": {
  "kernelspec": {
   "display_name": "Python 3",
   "language": "python",
   "name": "python3"
  },
  "language_info": {
   "codemirror_mode": {
    "name": "ipython",
    "version": 3
   },
   "file_extension": ".py",
   "mimetype": "text/x-python",
   "name": "python",
   "nbconvert_exporter": "python",
   "pygments_lexer": "ipython3",
   "version": "3.8.8"
  }
 },
 "nbformat": 4,
 "nbformat_minor": 5
}
