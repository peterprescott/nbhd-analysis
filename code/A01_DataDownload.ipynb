{
 "cells": [
  {
   "cell_type": "markdown",
   "id": "prime-convention",
   "metadata": {},
   "source": [
    "# Data Download"
   ]
  },
  {
   "cell_type": "markdown",
   "id": "acoustic-excuse",
   "metadata": {},
   "source": [
    "Here we download the OS OpenData GeoPackages and Shapefiles..."
   ]
  },
  {
   "cell_type": "code",
   "execution_count": 1,
   "id": "gross-botswana",
   "metadata": {},
   "outputs": [],
   "source": [
    "from nbhd.setup import OSDownloader"
   ]
  },
  {
   "cell_type": "code",
   "execution_count": 2,
   "id": "civilian-oxygen",
   "metadata": {},
   "outputs": [
    {
     "name": "stdout",
     "output_type": "stream",
     "text": [
      "250kScaleColourRaster\n",
      "not enough values to unpack (expected 1, got 0)\n",
      "BoundaryLine\n",
      "CodePointOpen\n",
      "GBOverviewMaps\n",
      "not enough values to unpack (expected 1, got 0)\n",
      "LIDS\n",
      "not enough values to unpack (expected 1, got 0)\n",
      "MiniScale\n",
      "not enough values to unpack (expected 1, got 0)\n",
      "OpenGreenspace\n",
      "OpenMapLocal\n",
      "OpenNames\n",
      "OpenRivers\n",
      "OpenRoads\n",
      "OpenTOID\n",
      "too many values to unpack (expected 1)\n",
      "OpenUPRN\n",
      "OpenUSRN\n",
      "OpenZoomstack\n",
      "Strategi\n",
      "Terrain50\n",
      "VectorMapDistrict\n"
     ]
    }
   ],
   "source": [
    "dwnld = OSDownloader()"
   ]
  },
  {
   "cell_type": "markdown",
   "id": "inner-peeing",
   "metadata": {},
   "source": [
    "While it is possible to extract the data from the zipfiles and load it into our database all in Python, it is not optimal. "
   ]
  },
  {
   "cell_type": "code",
   "execution_count": 15,
   "id": "statistical-speed",
   "metadata": {},
   "outputs": [],
   "source": [
    "from nbhd.setup import ZippedGpkg\n",
    "from nbhd.data import Base"
   ]
  },
  {
   "cell_type": "code",
   "execution_count": 16,
   "id": "governing-controversy",
   "metadata": {},
   "outputs": [],
   "source": [
    "zg = ZippedGpkg('../data/OpenRoadsGeoPackage.zip', Base())"
   ]
  },
  {
   "cell_type": "code",
   "execution_count": 19,
   "id": "initial-quest",
   "metadata": {},
   "outputs": [
    {
     "ename": "AttributeError",
     "evalue": "'ZippedGpkg' object has no attribute 'advise'",
     "output_type": "error",
     "traceback": [
      "\u001b[0;31m---------------------------------------------------------------------------\u001b[0m",
      "\u001b[0;31mAttributeError\u001b[0m                            Traceback (most recent call last)",
      "\u001b[0;32m<ipython-input-19-e3b6fac670e5>\u001b[0m in \u001b[0;36m<module>\u001b[0;34m\u001b[0m\n\u001b[0;32m----> 1\u001b[0;31m \u001b[0mzg\u001b[0m\u001b[0;34m.\u001b[0m\u001b[0madvise\u001b[0m\u001b[0;34m(\u001b[0m\u001b[0;34m)\u001b[0m\u001b[0;34m\u001b[0m\u001b[0;34m\u001b[0m\u001b[0m\n\u001b[0m",
      "\u001b[0;31mAttributeError\u001b[0m: 'ZippedGpkg' object has no attribute 'advise'"
     ]
    }
   ],
   "source": [
    "zg.advise()"
   ]
  }
 ],
 "metadata": {
  "kernelspec": {
   "display_name": "Python 3",
   "language": "python",
   "name": "python3"
  },
  "language_info": {
   "codemirror_mode": {
    "name": "ipython",
    "version": 3
   },
   "file_extension": ".py",
   "mimetype": "text/x-python",
   "name": "python",
   "nbconvert_exporter": "python",
   "pygments_lexer": "ipython3",
   "version": "3.8.8"
  }
 },
 "nbformat": 4,
 "nbformat_minor": 5
}
