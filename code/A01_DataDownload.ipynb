{
 "cells": [
  {
   "cell_type": "markdown",
   "id": "accompanied-timothy",
   "metadata": {},
   "source": [
    "# Data Download"
   ]
  },
  {
   "cell_type": "markdown",
   "id": "thorough-latino",
   "metadata": {},
   "source": [
    "Here we download the OS OpenData GeoPackages and Shapefiles..."
   ]
  },
  {
   "cell_type": "code",
   "execution_count": 1,
   "id": "reliable-morris",
   "metadata": {},
   "outputs": [],
   "source": [
    "from nbhd.setup import OSDownloader"
   ]
  },
  {
   "cell_type": "code",
   "execution_count": 2,
   "id": "moved-agent",
   "metadata": {},
   "outputs": [
    {
     "name": "stdout",
     "output_type": "stream",
     "text": [
      "250kScaleColourRaster\n",
      "not enough values to unpack (expected 1, got 0)\n",
      "BoundaryLine\n",
      "CodePointOpen\n",
      "GBOverviewMaps\n",
      "not enough values to unpack (expected 1, got 0)\n",
      "LIDS\n",
      "not enough values to unpack (expected 1, got 0)\n",
      "MiniScale\n",
      "not enough values to unpack (expected 1, got 0)\n",
      "OpenGreenspace\n",
      "OpenMapLocal\n",
      "OpenNames\n",
      "OpenRivers\n",
      "OpenRoads\n",
      "OpenTOID\n",
      "too many values to unpack (expected 1)\n",
      "OpenUPRN\n",
      "OpenUSRN\n",
      "OpenZoomstack\n",
      "Strategi\n",
      "Terrain50\n",
      "VectorMapDistrict\n"
     ]
    }
   ],
   "source": [
    "dwnld = OSDownloader()"
   ]
  },
  {
   "cell_type": "markdown",
   "id": "accepted-wallace",
   "metadata": {},
   "source": [
    "While it is possible to extract the data from the zipfiles and load it into our database all in Python, it is not optimal. "
   ]
  },
  {
   "cell_type": "code",
   "execution_count": 3,
   "id": "direct-humor",
   "metadata": {},
   "outputs": [],
   "source": [
    "from nbhd.data import Base\n",
    "from nbhd.setup import ZippedGeoData"
   ]
  },
  {
   "cell_type": "code",
   "execution_count": 4,
   "id": "falling-blocking",
   "metadata": {},
   "outputs": [
    {
     "name": "stdout",
     "output_type": "stream",
     "text": [
      "Initializing database connection...\n",
      "Database connected!\n",
      "Instead of using this class, it is quicker and more efficient to use the `ogr2ogr` tool which can be easily plugged in using the `GDAL` Docker image. Something like this:\n",
      "\n",
      "`docker run -it --net=host -v $PWD/data:/home/data osgeo/gdal` \n",
      "\n",
      " and then\n",
      "\n",
      "`ogr2ogr -f \"PostgreSQL\" PG:\"host=localhost user=piprescott dbname=nbhd port=5432\" osopenuprn_202107.gpkg `\n"
     ]
    }
   ],
   "source": [
    "zg = ZippedGeoData('../data/OpenRoadsGeoPackage.zip', Base())"
   ]
  }
 ],
 "metadata": {
  "kernelspec": {
   "display_name": "Python 3",
   "language": "python",
   "name": "python3"
  },
  "language_info": {
   "codemirror_mode": {
    "name": "ipython",
    "version": 3
   },
   "file_extension": ".py",
   "mimetype": "text/x-python",
   "name": "python",
   "nbconvert_exporter": "python",
   "pygments_lexer": "ipython3",
   "version": "3.8.8"
  }
 },
 "nbformat": 4,
 "nbformat_minor": 5
}
