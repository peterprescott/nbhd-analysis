{
 "cells": [
  {
   "cell_type": "markdown",
   "id": "overall-stocks",
   "metadata": {},
   "source": [
    "# Computational Setup and Database Interaction"
   ]
  },
  {
   "cell_type": "markdown",
   "id": "stuck-wildlife",
   "metadata": {},
   "source": [
    "First clone the `nbhd_analysis` repository: `git clone https://github.com/peterprescott/nbhd_analysis`"
   ]
  },
  {
   "cell_type": "markdown",
   "id": "abroad-seventh",
   "metadata": {},
   "source": [
    "You'll need [Docker]() installed, and `docker-compose` (which you can get just by `pip install docker-compose`). Then:\n",
    "```\n",
    "cd nbhd_analysis/docker\n",
    "sh build.sh\n",
    "docker-compose up\n",
    "```\n",
    "and Docker should spin up two containers for you:\n",
    "- one exposing a Jupyter Lab interface at `localhost:8888`\n",
    "- and one exposing a PostGis database at `localhost:5432`"
   ]
  },
  {
   "cell_type": "markdown",
   "id": "abstract-blame",
   "metadata": {},
   "source": [
    "If you've built the Docker image from the `nbhd_analysis/docker/Dockerfile` by running `build.sh` as above, then you'll have my `nbhd` package already installed. Otherwise go ahead and do that..."
   ]
  },
  {
   "cell_type": "code",
   "execution_count": 1,
   "id": "renewable-bangkok",
   "metadata": {},
   "outputs": [
    {
     "name": "stdout",
     "output_type": "stream",
     "text": [
      "`nbhd` package already installed!\n"
     ]
    }
   ],
   "source": [
    "try:\n",
    "    from nbhd import data\n",
    "    print('`nbhd` package already installed!')\n",
    "except Exception as e:\n",
    "    print(e)\n",
    "    print('... `nbhd` package not yet installed; trying to install it now...')\n",
    "    ! pip install git+https://github.com/peterprescott/nbhd\n",
    "    from nbhd import data"
   ]
  },
  {
   "cell_type": "markdown",
   "id": "spectacular-furniture",
   "metadata": {},
   "source": [
    "It includes a `data` module to make interacting with our PostGis database as painless as possible. Start by initiating a database connection with the `Base()` class..."
   ]
  },
  {
   "cell_type": "code",
   "execution_count": 2,
   "id": "korean-proposal",
   "metadata": {},
   "outputs": [
    {
     "name": "stdout",
     "output_type": "stream",
     "text": [
      "Initializing database connection...\n",
      "Database connected!\n"
     ]
    }
   ],
   "source": [
    "db = data.Base()"
   ]
  },
  {
   "cell_type": "markdown",
   "id": "stone-functionality",
   "metadata": {},
   "source": [
    "And now we can see what tables are already on our database..."
   ]
  },
  {
   "cell_type": "code",
   "execution_count": 3,
   "id": "computational-protein",
   "metadata": {},
   "outputs": [
    {
     "data": {
      "text/plain": [
       "['spatial_ref_sys']"
      ]
     },
     "execution_count": 3,
     "metadata": {},
     "output_type": "execute_result"
    }
   ],
   "source": [
    "db.ls()"
   ]
  },
  {
   "cell_type": "markdown",
   "id": "assured-length",
   "metadata": {},
   "source": [
    "... as well as some information about them."
   ]
  },
  {
   "cell_type": "code",
   "execution_count": 4,
   "id": "expected-monkey",
   "metadata": {},
   "outputs": [
    {
     "data": {
      "text/html": [
       "<div>\n",
       "<style scoped>\n",
       "    .dataframe tbody tr th:only-of-type {\n",
       "        vertical-align: middle;\n",
       "    }\n",
       "\n",
       "    .dataframe tbody tr th {\n",
       "        vertical-align: top;\n",
       "    }\n",
       "\n",
       "    .dataframe thead th {\n",
       "        text-align: right;\n",
       "    }\n",
       "</style>\n",
       "<table border=\"1\" class=\"dataframe\">\n",
       "  <thead>\n",
       "    <tr style=\"text-align: right;\">\n",
       "      <th></th>\n",
       "      <th>Column</th>\n",
       "      <th>Datatype</th>\n",
       "    </tr>\n",
       "  </thead>\n",
       "  <tbody>\n",
       "    <tr>\n",
       "      <th>0</th>\n",
       "      <td>srid</td>\n",
       "      <td>integer</td>\n",
       "    </tr>\n",
       "    <tr>\n",
       "      <th>1</th>\n",
       "      <td>auth_name</td>\n",
       "      <td>character varying(256)</td>\n",
       "    </tr>\n",
       "    <tr>\n",
       "      <th>2</th>\n",
       "      <td>auth_srid</td>\n",
       "      <td>integer</td>\n",
       "    </tr>\n",
       "    <tr>\n",
       "      <th>3</th>\n",
       "      <td>srtext</td>\n",
       "      <td>character varying(2048)</td>\n",
       "    </tr>\n",
       "    <tr>\n",
       "      <th>4</th>\n",
       "      <td>proj4text</td>\n",
       "      <td>character varying(2048)</td>\n",
       "    </tr>\n",
       "  </tbody>\n",
       "</table>\n",
       "</div>"
      ],
      "text/plain": [
       "      Column                 Datatype\n",
       "0       srid                  integer\n",
       "1  auth_name   character varying(256)\n",
       "2  auth_srid                  integer\n",
       "3     srtext  character varying(2048)\n",
       "4  proj4text  character varying(2048)"
      ]
     },
     "execution_count": 4,
     "metadata": {},
     "output_type": "execute_result"
    }
   ],
   "source": [
    "db.info('spatial_ref_sys')"
   ]
  },
  {
   "cell_type": "markdown",
   "id": "roman-tours",
   "metadata": {},
   "source": [
    "Of course we can also use whatever SQL we like:"
   ]
  },
  {
   "cell_type": "code",
   "execution_count": 5,
   "id": "protecting-madness",
   "metadata": {},
   "outputs": [],
   "source": [
    "sql = 'SELECT * FROM spatial_ref_sys'\n",
    "response = db.query(sql)"
   ]
  },
  {
   "cell_type": "code",
   "execution_count": 6,
   "id": "joint-dispute",
   "metadata": {},
   "outputs": [
    {
     "data": {
      "text/html": [
       "<div>\n",
       "<style scoped>\n",
       "    .dataframe tbody tr th:only-of-type {\n",
       "        vertical-align: middle;\n",
       "    }\n",
       "\n",
       "    .dataframe tbody tr th {\n",
       "        vertical-align: top;\n",
       "    }\n",
       "\n",
       "    .dataframe thead th {\n",
       "        text-align: right;\n",
       "    }\n",
       "</style>\n",
       "<table border=\"1\" class=\"dataframe\">\n",
       "  <thead>\n",
       "    <tr style=\"text-align: right;\">\n",
       "      <th></th>\n",
       "      <th>srid</th>\n",
       "      <th>auth_name</th>\n",
       "      <th>auth_srid</th>\n",
       "      <th>srtext</th>\n",
       "      <th>proj4text</th>\n",
       "    </tr>\n",
       "  </thead>\n",
       "  <tbody>\n",
       "    <tr>\n",
       "      <th>0</th>\n",
       "      <td>3819</td>\n",
       "      <td>EPSG</td>\n",
       "      <td>3819</td>\n",
       "      <td>GEOGCS[\"HD1909\",DATUM[\"Hungarian_Datum_1909\",S...</td>\n",
       "      <td>+proj=longlat +ellps=bessel +towgs84=595.48,12...</td>\n",
       "    </tr>\n",
       "    <tr>\n",
       "      <th>1</th>\n",
       "      <td>3821</td>\n",
       "      <td>EPSG</td>\n",
       "      <td>3821</td>\n",
       "      <td>GEOGCS[\"TWD67\",DATUM[\"Taiwan_Datum_1967\",SPHER...</td>\n",
       "      <td>+proj=longlat +ellps=aust_SA +no_defs</td>\n",
       "    </tr>\n",
       "    <tr>\n",
       "      <th>2</th>\n",
       "      <td>3824</td>\n",
       "      <td>EPSG</td>\n",
       "      <td>3824</td>\n",
       "      <td>GEOGCS[\"TWD97\",DATUM[\"Taiwan_Datum_1997\",SPHER...</td>\n",
       "      <td>+proj=longlat +ellps=GRS80 +towgs84=0,0,0,0,0,...</td>\n",
       "    </tr>\n",
       "    <tr>\n",
       "      <th>3</th>\n",
       "      <td>3889</td>\n",
       "      <td>EPSG</td>\n",
       "      <td>3889</td>\n",
       "      <td>GEOGCS[\"IGRS\",DATUM[\"Iraqi_Geospatial_Referenc...</td>\n",
       "      <td>+proj=longlat +ellps=GRS80 +towgs84=0,0,0,0,0,...</td>\n",
       "    </tr>\n",
       "    <tr>\n",
       "      <th>4</th>\n",
       "      <td>3906</td>\n",
       "      <td>EPSG</td>\n",
       "      <td>3906</td>\n",
       "      <td>GEOGCS[\"MGI 1901\",DATUM[\"MGI_1901\",SPHEROID[\"B...</td>\n",
       "      <td>+proj=longlat +ellps=bessel +towgs84=682,-203,...</td>\n",
       "    </tr>\n",
       "    <tr>\n",
       "      <th>...</th>\n",
       "      <td>...</td>\n",
       "      <td>...</td>\n",
       "      <td>...</td>\n",
       "      <td>...</td>\n",
       "      <td>...</td>\n",
       "    </tr>\n",
       "    <tr>\n",
       "      <th>8495</th>\n",
       "      <td>103967</td>\n",
       "      <td>ESRI</td>\n",
       "      <td>103967</td>\n",
       "      <td>PROJCS[\"NAD_1983_HARN_Adj_WI_Vilas_Feet (depre...</td>\n",
       "      <td>+proj=lcc +lat_0=45.625 +lon_0=-89.48888888888...</td>\n",
       "    </tr>\n",
       "    <tr>\n",
       "      <th>8496</th>\n",
       "      <td>103968</td>\n",
       "      <td>ESRI</td>\n",
       "      <td>103968</td>\n",
       "      <td>PROJCS[\"NAD_1983_HARN_Adj_WI_Walworth_Feet (de...</td>\n",
       "      <td>+proj=lcc +lat_0=41.6694444444444 +lon_0=-88.5...</td>\n",
       "    </tr>\n",
       "    <tr>\n",
       "      <th>8497</th>\n",
       "      <td>103969</td>\n",
       "      <td>ESRI</td>\n",
       "      <td>103969</td>\n",
       "      <td>PROJCS[\"NAD_1983_HARN_Adj_WI_Washburn_Feet (de...</td>\n",
       "      <td>+proj=lcc +lat_0=44.2666666666667 +lon_0=-91.7...</td>\n",
       "    </tr>\n",
       "    <tr>\n",
       "      <th>8498</th>\n",
       "      <td>103970</td>\n",
       "      <td>ESRI</td>\n",
       "      <td>103970</td>\n",
       "      <td>PROJCS[\"NAD_1983_HARN_Adj_WI_Waushara_Feet (de...</td>\n",
       "      <td>+proj=lcc +lat_0=43.7083333333333 +lon_0=-89.2...</td>\n",
       "    </tr>\n",
       "    <tr>\n",
       "      <th>8499</th>\n",
       "      <td>103971</td>\n",
       "      <td>ESRI</td>\n",
       "      <td>103971</td>\n",
       "      <td>PROJCS[\"NAD_1983_HARN_Adj_WI_Wood_Feet (deprec...</td>\n",
       "      <td>+proj=lcc +lat_0=43.1513888888889 +lon_0=-90 +...</td>\n",
       "    </tr>\n",
       "  </tbody>\n",
       "</table>\n",
       "<p>8500 rows × 5 columns</p>\n",
       "</div>"
      ],
      "text/plain": [
       "        srid auth_name  auth_srid  \\\n",
       "0       3819      EPSG       3819   \n",
       "1       3821      EPSG       3821   \n",
       "2       3824      EPSG       3824   \n",
       "3       3889      EPSG       3889   \n",
       "4       3906      EPSG       3906   \n",
       "...      ...       ...        ...   \n",
       "8495  103967      ESRI     103967   \n",
       "8496  103968      ESRI     103968   \n",
       "8497  103969      ESRI     103969   \n",
       "8498  103970      ESRI     103970   \n",
       "8499  103971      ESRI     103971   \n",
       "\n",
       "                                                 srtext  \\\n",
       "0     GEOGCS[\"HD1909\",DATUM[\"Hungarian_Datum_1909\",S...   \n",
       "1     GEOGCS[\"TWD67\",DATUM[\"Taiwan_Datum_1967\",SPHER...   \n",
       "2     GEOGCS[\"TWD97\",DATUM[\"Taiwan_Datum_1997\",SPHER...   \n",
       "3     GEOGCS[\"IGRS\",DATUM[\"Iraqi_Geospatial_Referenc...   \n",
       "4     GEOGCS[\"MGI 1901\",DATUM[\"MGI_1901\",SPHEROID[\"B...   \n",
       "...                                                 ...   \n",
       "8495  PROJCS[\"NAD_1983_HARN_Adj_WI_Vilas_Feet (depre...   \n",
       "8496  PROJCS[\"NAD_1983_HARN_Adj_WI_Walworth_Feet (de...   \n",
       "8497  PROJCS[\"NAD_1983_HARN_Adj_WI_Washburn_Feet (de...   \n",
       "8498  PROJCS[\"NAD_1983_HARN_Adj_WI_Waushara_Feet (de...   \n",
       "8499  PROJCS[\"NAD_1983_HARN_Adj_WI_Wood_Feet (deprec...   \n",
       "\n",
       "                                              proj4text  \n",
       "0     +proj=longlat +ellps=bessel +towgs84=595.48,12...  \n",
       "1                +proj=longlat +ellps=aust_SA +no_defs   \n",
       "2     +proj=longlat +ellps=GRS80 +towgs84=0,0,0,0,0,...  \n",
       "3     +proj=longlat +ellps=GRS80 +towgs84=0,0,0,0,0,...  \n",
       "4     +proj=longlat +ellps=bessel +towgs84=682,-203,...  \n",
       "...                                                 ...  \n",
       "8495  +proj=lcc +lat_0=45.625 +lon_0=-89.48888888888...  \n",
       "8496  +proj=lcc +lat_0=41.6694444444444 +lon_0=-88.5...  \n",
       "8497  +proj=lcc +lat_0=44.2666666666667 +lon_0=-91.7...  \n",
       "8498  +proj=lcc +lat_0=43.7083333333333 +lon_0=-89.2...  \n",
       "8499  +proj=lcc +lat_0=43.1513888888889 +lon_0=-90 +...  \n",
       "\n",
       "[8500 rows x 5 columns]"
      ]
     },
     "execution_count": 6,
     "metadata": {},
     "output_type": "execute_result"
    }
   ],
   "source": [
    "response"
   ]
  }
 ],
 "metadata": {
  "kernelspec": {
   "display_name": "Python 3",
   "language": "python",
   "name": "python3"
  },
  "language_info": {
   "codemirror_mode": {
    "name": "ipython",
    "version": 3
   },
   "file_extension": ".py",
   "mimetype": "text/x-python",
   "name": "python",
   "nbconvert_exporter": "python",
   "pygments_lexer": "ipython3",
   "version": "3.8.8"
  }
 },
 "nbformat": 4,
 "nbformat_minor": 5
}
