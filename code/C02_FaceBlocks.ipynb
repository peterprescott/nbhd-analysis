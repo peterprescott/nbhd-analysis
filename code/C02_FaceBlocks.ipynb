{
 "cells": [
  {
   "cell_type": "code",
   "execution_count": 1,
   "id": "confidential-reviewer",
   "metadata": {},
   "outputs": [],
   "source": [
    "# figure of face-blocks in a connected neighbourhood"
   ]
  },
  {
   "cell_type": "code",
   "execution_count": null,
   "id": "every-pittsburgh",
   "metadata": {},
   "outputs": [],
   "source": [
    "# table of relevant statistics"
   ]
  },
  {
   "cell_type": "code",
   "execution_count": 1,
   "id": "amino-programming",
   "metadata": {},
   "outputs": [],
   "source": [
    "from nbhd import data"
   ]
  },
  {
   "cell_type": "code",
   "execution_count": 2,
   "id": "white-template",
   "metadata": {},
   "outputs": [
    {
     "name": "stdout",
     "output_type": "stream",
     "text": [
      "Initializing database connection...\n",
      "Database connected!\n"
     ]
    }
   ],
   "source": [
    "db = data.Base()"
   ]
  },
  {
   "cell_type": "code",
   "execution_count": 3,
   "id": "impressed-census",
   "metadata": {},
   "outputs": [
    {
     "data": {
      "text/plain": [
       "['spatial_ref_sys',\n",
       " 'nodes',\n",
       " 'buildings',\n",
       " 'roads',\n",
       " 'properties',\n",
       " 'carchargingpoint',\n",
       " 'importantbuilding',\n",
       " 'namedplace',\n",
       " 'road',\n",
       " 'foreshore',\n",
       " 'functionalsite',\n",
       " 'surfacewater_line',\n",
       " 'surfacewater_area',\n",
       " 'tidalwater',\n",
       " 'tidalboundary',\n",
       " 'woodland',\n",
       " 'glasshouse',\n",
       " 'electricitytransmissionline',\n",
       " 'railwaystation',\n",
       " 'railwaytrack',\n",
       " 'railwaytunnel',\n",
       " 'roadtunnel',\n",
       " 'roundabout',\n",
       " 'motorwayjunction',\n",
       " 'names',\n",
       " 'rivers',\n",
       " 'green',\n",
       " 'coast',\n",
       " 'waterlines',\n",
       " 'local_buildings',\n",
       " 'boundary_line_ceremonial_counties',\n",
       " 'boundary_line_historic_counties',\n",
       " 'community_ward',\n",
       " 'country_region',\n",
       " 'county',\n",
       " 'county_electoral_division',\n",
       " 'district_borough_unitary',\n",
       " 'district_borough_unitary_ward',\n",
       " 'english_region',\n",
       " 'greater_london_const',\n",
       " 'high_water',\n",
       " 'historic_european_region',\n",
       " 'parish',\n",
       " 'polling_districts_england',\n",
       " 'scotland_and_wales_const',\n",
       " 'scotland_and_wales_region',\n",
       " 'unitary_electoral_division',\n",
       " 'westminster_const',\n",
       " 'isles',\n",
       " 'tiles1',\n",
       " 'tiles3',\n",
       " 'tiles4',\n",
       " 'tiles2',\n",
       " 'pixels',\n",
       " 'communities',\n",
       " 'faceblocks',\n",
       " 'connected']"
      ]
     },
     "execution_count": 3,
     "metadata": {},
     "output_type": "execute_result"
    }
   ],
   "source": [
    "db.ls()"
   ]
  },
  {
   "cell_type": "code",
   "execution_count": 19,
   "id": "minor-priest",
   "metadata": {},
   "outputs": [],
   "source": [
    "rds = db.query(\"SELECT * FROM roads WHERE name1 LIKE 'Sutton Street'\", True)"
   ]
  },
  {
   "cell_type": "code",
   "execution_count": 6,
   "id": "successful-stanford",
   "metadata": {},
   "outputs": [
    {
     "data": {
      "text/plain": [
       "Index(['id', 'endNode', 'startNode', 'roadNumberTOID', 'roadNameTOID',\n",
       "       'fictitious', 'roadClassification', 'road_function', 'formOfWay',\n",
       "       'length', 'length_uom', 'loop', 'primaryRoute', 'trunkRoad',\n",
       "       'roadClassificationNumber', 'name1', 'name1_lang', 'name2',\n",
       "       'name2_lang', 'roadStructure', 'geometry'],\n",
       "      dtype='object')"
      ]
     },
     "execution_count": 6,
     "metadata": {},
     "output_type": "execute_result"
    }
   ],
   "source": [
    "rds.columns"
   ]
  },
  {
   "cell_type": "code",
   "execution_count": 26,
   "id": "frequent-future",
   "metadata": {},
   "outputs": [],
   "source": [
    "comms = db.query(\"SELECT * FROM communities LIMIT 10\")"
   ]
  },
  {
   "cell_type": "code",
   "execution_count": 27,
   "id": "recovered-register",
   "metadata": {},
   "outputs": [
    {
     "data": {
      "text/html": [
       "<div>\n",
       "<style scoped>\n",
       "    .dataframe tbody tr th:only-of-type {\n",
       "        vertical-align: middle;\n",
       "    }\n",
       "\n",
       "    .dataframe tbody tr th {\n",
       "        vertical-align: top;\n",
       "    }\n",
       "\n",
       "    .dataframe thead th {\n",
       "        text-align: right;\n",
       "    }\n",
       "</style>\n",
       "<table border=\"1\" class=\"dataframe\">\n",
       "  <thead>\n",
       "    <tr style=\"text-align: right;\">\n",
       "      <th></th>\n",
       "      <th>roads_id</th>\n",
       "      <th>community</th>\n",
       "    </tr>\n",
       "  </thead>\n",
       "  <tbody>\n",
       "    <tr>\n",
       "      <th>0</th>\n",
       "      <td>idD9F28645-8E24-444C-ACD9-A4CE8AF56C2A</td>\n",
       "      <td>175209_01</td>\n",
       "    </tr>\n",
       "    <tr>\n",
       "      <th>1</th>\n",
       "      <td>id55ED1C79-21A9-4D48-8C51-71209291A463</td>\n",
       "      <td>201763_01</td>\n",
       "    </tr>\n",
       "    <tr>\n",
       "      <th>2</th>\n",
       "      <td>idAFBA58DC-5E4A-4FE9-BB09-3660650E3C62</td>\n",
       "      <td>201763_02</td>\n",
       "    </tr>\n",
       "    <tr>\n",
       "      <th>3</th>\n",
       "      <td>id372D0E2B-0495-4C9C-B040-05EF99582A46</td>\n",
       "      <td>201763_02</td>\n",
       "    </tr>\n",
       "    <tr>\n",
       "      <th>4</th>\n",
       "      <td>idAB5C49F8-8BFE-4B5A-9221-DBD9084429D5</td>\n",
       "      <td>201763_03</td>\n",
       "    </tr>\n",
       "    <tr>\n",
       "      <th>5</th>\n",
       "      <td>id9E767AA6-19BF-4B2D-875D-129A4B553EBA</td>\n",
       "      <td>201763_01</td>\n",
       "    </tr>\n",
       "    <tr>\n",
       "      <th>6</th>\n",
       "      <td>id5688D3DC-2B8B-4CDD-8FB2-CFDA892EA830</td>\n",
       "      <td>201763_04</td>\n",
       "    </tr>\n",
       "    <tr>\n",
       "      <th>7</th>\n",
       "      <td>id8A6A6E73-A84C-4C2E-AA06-A0EEE4F12224</td>\n",
       "      <td>201763_04</td>\n",
       "    </tr>\n",
       "    <tr>\n",
       "      <th>8</th>\n",
       "      <td>idD6D3B364-648D-4F78-94D9-E3283C129875</td>\n",
       "      <td>201763_05</td>\n",
       "    </tr>\n",
       "    <tr>\n",
       "      <th>9</th>\n",
       "      <td>id745866D7-7816-4075-95E4-CD8708D573A6</td>\n",
       "      <td>201763_02</td>\n",
       "    </tr>\n",
       "  </tbody>\n",
       "</table>\n",
       "</div>"
      ],
      "text/plain": [
       "                                 roads_id  community\n",
       "0  idD9F28645-8E24-444C-ACD9-A4CE8AF56C2A  175209_01\n",
       "1  id55ED1C79-21A9-4D48-8C51-71209291A463  201763_01\n",
       "2  idAFBA58DC-5E4A-4FE9-BB09-3660650E3C62  201763_02\n",
       "3  id372D0E2B-0495-4C9C-B040-05EF99582A46  201763_02\n",
       "4  idAB5C49F8-8BFE-4B5A-9221-DBD9084429D5  201763_03\n",
       "5  id9E767AA6-19BF-4B2D-875D-129A4B553EBA  201763_01\n",
       "6  id5688D3DC-2B8B-4CDD-8FB2-CFDA892EA830  201763_04\n",
       "7  id8A6A6E73-A84C-4C2E-AA06-A0EEE4F12224  201763_04\n",
       "8  idD6D3B364-648D-4F78-94D9-E3283C129875  201763_05\n",
       "9  id745866D7-7816-4075-95E4-CD8708D573A6  201763_02"
      ]
     },
     "execution_count": 27,
     "metadata": {},
     "output_type": "execute_result"
    }
   ],
   "source": [
    "comms"
   ]
  },
  {
   "cell_type": "code",
   "execution_count": 46,
   "id": "ethical-castle",
   "metadata": {},
   "outputs": [],
   "source": [
    "names = db.query('SELECT * FROM names WHERE \"NAME1\" LIKE \\'L13 7EQ\\'', True)"
   ]
  },
  {
   "cell_type": "code",
   "execution_count": 49,
   "id": "vital-people",
   "metadata": {},
   "outputs": [
    {
     "data": {
      "text/html": [
       "<div>\n",
       "<style scoped>\n",
       "    .dataframe tbody tr th:only-of-type {\n",
       "        vertical-align: middle;\n",
       "    }\n",
       "\n",
       "    .dataframe tbody tr th {\n",
       "        vertical-align: top;\n",
       "    }\n",
       "\n",
       "    .dataframe thead th {\n",
       "        text-align: right;\n",
       "    }\n",
       "</style>\n",
       "<table border=\"1\" class=\"dataframe\">\n",
       "  <thead>\n",
       "    <tr style=\"text-align: right;\">\n",
       "      <th></th>\n",
       "      <th>ID</th>\n",
       "      <th>NAMES_URI</th>\n",
       "      <th>NAME1</th>\n",
       "      <th>NAME1_LANG</th>\n",
       "      <th>NAME2</th>\n",
       "      <th>NAME2_LANG</th>\n",
       "      <th>TYPE</th>\n",
       "      <th>LOCAL_TYPE</th>\n",
       "      <th>MOST_DETAIL_VIEW_RES</th>\n",
       "      <th>LEAST_DETAIL_VIEW_RES</th>\n",
       "      <th>...</th>\n",
       "      <th>COUNTY_UNITARY_URI</th>\n",
       "      <th>COUNTY_UNITARY_TYPE</th>\n",
       "      <th>REGION</th>\n",
       "      <th>REGION_URI</th>\n",
       "      <th>COUNTRY</th>\n",
       "      <th>COUNTRY_URI</th>\n",
       "      <th>RELATED_SPATIAL_OBJECT</th>\n",
       "      <th>SAME_AS_DBPEDIA</th>\n",
       "      <th>SAME_AS_GEONAMES</th>\n",
       "      <th>geometry</th>\n",
       "    </tr>\n",
       "  </thead>\n",
       "  <tbody>\n",
       "    <tr>\n",
       "      <th>0</th>\n",
       "      <td>L137EQ</td>\n",
       "      <td>http://data.ordnancesurvey.co.uk/id/postcodeun...</td>\n",
       "      <td>L13 7EQ</td>\n",
       "      <td>None</td>\n",
       "      <td>None</td>\n",
       "      <td>None</td>\n",
       "      <td>other</td>\n",
       "      <td>Postcode</td>\n",
       "      <td>3500</td>\n",
       "      <td>18000</td>\n",
       "      <td>...</td>\n",
       "      <td>None</td>\n",
       "      <td>None</td>\n",
       "      <td>North West</td>\n",
       "      <td>http://data.ordnancesurvey.co.uk/id/7000000000...</td>\n",
       "      <td>England</td>\n",
       "      <td>http://data.ordnancesurvey.co.uk/id/country/en...</td>\n",
       "      <td>None</td>\n",
       "      <td>None</td>\n",
       "      <td>None</td>\n",
       "      <td>POINT (338286.000 392077.000)</td>\n",
       "    </tr>\n",
       "  </tbody>\n",
       "</table>\n",
       "<p>1 rows × 33 columns</p>\n",
       "</div>"
      ],
      "text/plain": [
       "       ID                                          NAMES_URI    NAME1  \\\n",
       "0  L137EQ  http://data.ordnancesurvey.co.uk/id/postcodeun...  L13 7EQ   \n",
       "\n",
       "  NAME1_LANG NAME2 NAME2_LANG   TYPE LOCAL_TYPE  MOST_DETAIL_VIEW_RES  \\\n",
       "0       None  None       None  other   Postcode                  3500   \n",
       "\n",
       "   LEAST_DETAIL_VIEW_RES  ... COUNTY_UNITARY_URI COUNTY_UNITARY_TYPE  \\\n",
       "0                  18000  ...               None                None   \n",
       "\n",
       "       REGION                                         REGION_URI  COUNTRY  \\\n",
       "0  North West  http://data.ordnancesurvey.co.uk/id/7000000000...  England   \n",
       "\n",
       "                                         COUNTRY_URI RELATED_SPATIAL_OBJECT  \\\n",
       "0  http://data.ordnancesurvey.co.uk/id/country/en...                   None   \n",
       "\n",
       "  SAME_AS_DBPEDIA SAME_AS_GEONAMES                       geometry  \n",
       "0            None             None  POINT (338286.000 392077.000)  \n",
       "\n",
       "[1 rows x 33 columns]"
      ]
     },
     "execution_count": 49,
     "metadata": {},
     "output_type": "execute_result"
    }
   ],
   "source": [
    "names"
   ]
  }
 ],
 "metadata": {
  "kernelspec": {
   "display_name": "Python 3",
   "language": "python",
   "name": "python3"
  },
  "language_info": {
   "codemirror_mode": {
    "name": "ipython",
    "version": 3
   },
   "file_extension": ".py",
   "mimetype": "text/x-python",
   "name": "python",
   "nbconvert_exporter": "python",
   "pygments_lexer": "ipython3",
   "version": "3.8.8"
  }
 },
 "nbformat": 4,
 "nbformat_minor": 5
}
